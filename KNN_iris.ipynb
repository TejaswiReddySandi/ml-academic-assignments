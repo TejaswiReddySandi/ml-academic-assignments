{
  "nbformat": 4,
  "nbformat_minor": 0,
  "metadata": {
    "colab": {
      "provenance": [],
      "authorship_tag": "ABX9TyNdcu1k5UohgyGFybcnIOvb",
      "include_colab_link": true
    },
    "kernelspec": {
      "name": "python3",
      "display_name": "Python 3"
    },
    "language_info": {
      "name": "python"
    }
  },
  "cells": [
    {
      "cell_type": "markdown",
      "metadata": {
        "id": "view-in-github",
        "colab_type": "text"
      },
      "source": [
        "<a href=\"https://colab.research.google.com/github/TejaswiReddySandi/ml-academic-assignments/blob/main/KNN_iris.ipynb\" target=\"_parent\"><img src=\"https://colab.research.google.com/assets/colab-badge.svg\" alt=\"Open In Colab\"/></a>"
      ]
    },
    {
      "cell_type": "code",
      "metadata": {
        "id": "jmp53FEXN3iR"
      },
      "source": [
        "#import scikit-learn dataset library\n",
        "from sklearn import datasets"
      ],
      "execution_count": null,
      "outputs": []
    },
    {
      "cell_type": "code",
      "metadata": {
        "colab": {
          "base_uri": "https://localhost:8080/"
        },
        "id": "dgEhCGhYOKka",
        "outputId": "cb709ddf-5b59-480f-f7e4-5113e96ed0f0"
      },
      "source": [
        "#load dataset\n",
        "irisDataset = datasets.load_iris()\n",
        "print(irisDataset.feature_names)"
      ],
      "execution_count": null,
      "outputs": [
        {
          "output_type": "stream",
          "name": "stdout",
          "text": [
            "['sepal length (cm)', 'sepal width (cm)', 'petal length (cm)', 'petal width (cm)']\n"
          ]
        }
      ]
    },
    {
      "cell_type": "code",
      "metadata": {
        "colab": {
          "base_uri": "https://localhost:8080/"
        },
        "id": "Dgkfd5_jOWyx",
        "outputId": "dafd27e4-503f-4c86-a44c-d57c51fffb99"
      },
      "source": [
        "#check records of the target set\n",
        "print(irisDataset.target_names)"
      ],
      "execution_count": null,
      "outputs": [
        {
          "output_type": "stream",
          "name": "stdout",
          "text": [
            "['setosa' 'versicolor' 'virginica']\n"
          ]
        }
      ]
    },
    {
      "cell_type": "code",
      "metadata": {
        "colab": {
          "base_uri": "https://localhost:8080/"
        },
        "id": "6bXGTwD5O9xy",
        "outputId": "3d98590e-7b51-4ef7-8e73-9ea1b3bd4eff"
      },
      "source": [
        "type(irisDataset.target)"
      ],
      "execution_count": null,
      "outputs": [
        {
          "output_type": "execute_result",
          "data": {
            "text/plain": [
              "numpy.ndarray"
            ]
          },
          "metadata": {},
          "execution_count": 4
        }
      ]
    },
    {
      "cell_type": "code",
      "metadata": {
        "colab": {
          "base_uri": "https://localhost:8080/"
        },
        "id": "uvzJqpaEPMO7",
        "outputId": "37fc859b-6ac7-45ce-8860-34b48d724e4c"
      },
      "source": [
        "#check top 5 records of the feature set\n",
        "print(irisDataset.data[0:5])"
      ],
      "execution_count": null,
      "outputs": [
        {
          "output_type": "stream",
          "name": "stdout",
          "text": [
            "[[5.1 3.5 1.4 0.2]\n",
            " [4.9 3.  1.4 0.2]\n",
            " [4.7 3.2 1.3 0.2]\n",
            " [4.6 3.1 1.5 0.2]\n",
            " [5.  3.6 1.4 0.2]]\n"
          ]
        }
      ]
    },
    {
      "cell_type": "code",
      "metadata": {
        "colab": {
          "base_uri": "https://localhost:8080/"
        },
        "id": "QT8TWGBMPTYZ",
        "outputId": "8685f2b8-cda0-4086-a2d3-fb5b1e1f64ed"
      },
      "source": [
        "type(irisDataset)"
      ],
      "execution_count": null,
      "outputs": [
        {
          "output_type": "execute_result",
          "data": {
            "text/plain": [
              "sklearn.utils.Bunch"
            ]
          },
          "metadata": {},
          "execution_count": 6
        }
      ]
    },
    {
      "cell_type": "code",
      "metadata": {
        "colab": {
          "base_uri": "https://localhost:8080/"
        },
        "id": "l-jPU6G4PbOh",
        "outputId": "525157bc-2660-4ee2-ebad-0a397741e334"
      },
      "source": [
        "print(irisDataset.target[0:5])"
      ],
      "execution_count": null,
      "outputs": [
        {
          "output_type": "stream",
          "name": "stdout",
          "text": [
            "[0 0 0 0 0]\n"
          ]
        }
      ]
    },
    {
      "cell_type": "code",
      "metadata": {
        "colab": {
          "base_uri": "https://localhost:8080/"
        },
        "id": "zO1c43MJPfzx",
        "outputId": "da22376a-f122-48c9-d188-5b1cf0fdd7b8"
      },
      "source": [
        "#check the shape of the dataset using shape\n",
        "print(irisDataset.data.shape)"
      ],
      "execution_count": null,
      "outputs": [
        {
          "output_type": "stream",
          "name": "stdout",
          "text": [
            "(150, 4)\n"
          ]
        }
      ]
    },
    {
      "cell_type": "code",
      "metadata": {
        "id": "xr3qqitdPoFq"
      },
      "source": [
        "#import train_test_split function\n",
        "from sklearn.model_selection import train_test_split"
      ],
      "execution_count": null,
      "outputs": []
    },
    {
      "cell_type": "code",
      "metadata": {
        "id": "kRkoxy1EPvMq"
      },
      "source": [
        "#split dataset into training set and test set \n",
        "X_train, X_test, y_train, y_test = train_test_split(irisDataset.data, irisDataset.target, test_size=0.2)"
      ],
      "execution_count": null,
      "outputs": []
    },
    {
      "cell_type": "code",
      "metadata": {
        "id": "Dfa45HMbQvFp"
      },
      "source": [
        "from sklearn.neighbors import KNeighborsClassifier"
      ],
      "execution_count": null,
      "outputs": []
    },
    {
      "cell_type": "code",
      "metadata": {
        "id": "LhSRWC6uQEPh"
      },
      "source": [
        "#create KNN Classifier\n",
        "knn2 = KNeighborsClassifier(n_neighbors=2)"
      ],
      "execution_count": null,
      "outputs": []
    },
    {
      "cell_type": "code",
      "metadata": {
        "colab": {
          "base_uri": "https://localhost:8080/"
        },
        "id": "pA63D1CgQ1w5",
        "outputId": "69399cf4-48bc-4079-c78d-b0f08a5f1210"
      },
      "source": [
        "#train the model using the training sets\n",
        "knn2.fit(X_train, y_train)"
      ],
      "execution_count": null,
      "outputs": [
        {
          "output_type": "execute_result",
          "data": {
            "text/plain": [
              "KNeighborsClassifier(n_neighbors=2)"
            ]
          },
          "metadata": {},
          "execution_count": 13
        }
      ]
    },
    {
      "cell_type": "code",
      "metadata": {
        "id": "PVxGzf8TRCEp"
      },
      "source": [
        "#predict the response for test dataset\n",
        "y_pred2 = knn2.predict(X_test)"
      ],
      "execution_count": null,
      "outputs": []
    },
    {
      "cell_type": "code",
      "metadata": {
        "id": "FdVSBAtYRr1a"
      },
      "source": [
        "from sklearn import metrics"
      ],
      "execution_count": null,
      "outputs": []
    },
    {
      "cell_type": "code",
      "metadata": {
        "colab": {
          "base_uri": "https://localhost:8080/"
        },
        "id": "5ADNgcffRY25",
        "outputId": "39dd8b0c-d446-4d68-d3e7-3d95f80e3c62"
      },
      "source": [
        "print(\"Accuracy:\",metrics.accuracy_score(y_test, y_pred2))"
      ],
      "execution_count": null,
      "outputs": [
        {
          "output_type": "stream",
          "name": "stdout",
          "text": [
            "Accuracy: 0.9666666666666667\n"
          ]
        }
      ]
    },
    {
      "cell_type": "code",
      "metadata": {
        "id": "KfuGHYNo5A-A"
      },
      "source": [
        "#import knearest neighbors classifier model\n",
        "from sklearn.neighbors import KNeighborsClassifier"
      ],
      "execution_count": null,
      "outputs": []
    },
    {
      "cell_type": "code",
      "metadata": {
        "id": "fuFc0kMH5ZBL"
      },
      "source": [
        "#create KNN Classifier\n",
        "knn = KNeighborsClassifier(n_neighbors=5)"
      ],
      "execution_count": null,
      "outputs": []
    },
    {
      "cell_type": "code",
      "metadata": {
        "colab": {
          "base_uri": "https://localhost:8080/"
        },
        "id": "VVeI7Lp55oNv",
        "outputId": "c07c08c4-0d6c-43f1-86c4-1fb879260d13"
      },
      "source": [
        "#train the model using the training sets\n",
        "knn.fit(X_train,y_train)"
      ],
      "execution_count": null,
      "outputs": [
        {
          "output_type": "execute_result",
          "data": {
            "text/plain": [
              "KNeighborsClassifier()"
            ]
          },
          "metadata": {},
          "execution_count": 19
        }
      ]
    },
    {
      "cell_type": "code",
      "metadata": {
        "id": "Z5JECZIM503a"
      },
      "source": [
        "#predict the response for the dataset\n",
        "y_pred = knn.predict(X_test)"
      ],
      "execution_count": null,
      "outputs": []
    },
    {
      "cell_type": "code",
      "metadata": {
        "id": "VRq8dpkE6DQv"
      },
      "source": [
        "#import scikit-learn metrics module for accuracy calculation\n",
        "from sklearn import metrics "
      ],
      "execution_count": null,
      "outputs": []
    },
    {
      "cell_type": "code",
      "metadata": {
        "colab": {
          "base_uri": "https://localhost:8080/"
        },
        "id": "WqBra70y6Qjg",
        "outputId": "5511ce7e-d4e7-4f7e-deb3-b393e92197c0"
      },
      "source": [
        "#model accuracy how often is the classifier correct?\n",
        "print(\"Accuracy:\",metrics.accuracy_score(y_test, y_pred))"
      ],
      "execution_count": null,
      "outputs": [
        {
          "output_type": "stream",
          "name": "stdout",
          "text": [
            "Accuracy: 1.0\n"
          ]
        }
      ]
    },
    {
      "cell_type": "code",
      "metadata": {
        "id": "ZWz0b4o96maO"
      },
      "source": [
        "#create KNN Classifier\n",
        "knn1 = KNeighborsClassifier(n_neighbors=7)"
      ],
      "execution_count": null,
      "outputs": []
    },
    {
      "cell_type": "code",
      "metadata": {
        "colab": {
          "base_uri": "https://localhost:8080/"
        },
        "id": "iGZqB38Z6yZh",
        "outputId": "206ae6d2-ab77-41b2-f95b-9ccbae3f8ed5"
      },
      "source": [
        "#train the model using the training sets\n",
        "knn1.fit(X_train, y_train)"
      ],
      "execution_count": null,
      "outputs": [
        {
          "output_type": "execute_result",
          "data": {
            "text/plain": [
              "KNeighborsClassifier(n_neighbors=7)"
            ]
          },
          "metadata": {},
          "execution_count": 24
        }
      ]
    },
    {
      "cell_type": "code",
      "metadata": {
        "id": "Y1xUtkJV6-91"
      },
      "source": [
        "#predict the response for test dataset\n",
        "y_pred1 = knn1.predict(X_test)"
      ],
      "execution_count": null,
      "outputs": []
    },
    {
      "cell_type": "code",
      "metadata": {
        "id": "PTnHIh8Z7Lmt"
      },
      "source": [
        "#import scikit-learn metrics module for accuracy calculation\n",
        "from sklearn import metrics "
      ],
      "execution_count": null,
      "outputs": []
    },
    {
      "cell_type": "code",
      "metadata": {
        "colab": {
          "base_uri": "https://localhost:8080/"
        },
        "id": "0g2CyvdJ7W0N",
        "outputId": "f5de2684-874e-4037-a367-bb2a926ff553"
      },
      "source": [
        "#model accuracy, how often is the classifier correct?\n",
        "print(\"Accuracy:\",metrics.accuracy_score(y_test, y_pred1))"
      ],
      "execution_count": null,
      "outputs": [
        {
          "output_type": "stream",
          "name": "stdout",
          "text": [
            "Accuracy: 1.0\n"
          ]
        }
      ]
    }
  ]
}