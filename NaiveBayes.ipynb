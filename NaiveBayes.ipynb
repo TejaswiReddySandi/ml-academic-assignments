{
  "nbformat": 4,
  "nbformat_minor": 0,
  "metadata": {
    "colab": {
      "provenance": [],
      "authorship_tag": "ABX9TyN8WD8IFHV75bLH1AwkATwy",
      "include_colab_link": true
    },
    "kernelspec": {
      "name": "python3",
      "display_name": "Python 3"
    },
    "language_info": {
      "name": "python"
    }
  },
  "cells": [
    {
      "cell_type": "markdown",
      "metadata": {
        "id": "view-in-github",
        "colab_type": "text"
      },
      "source": [
        "<a href=\"https://colab.research.google.com/github/TejaswiReddySandi/ml-academic-assignments/blob/main/NaiveBayes.ipynb\" target=\"_parent\"><img src=\"https://colab.research.google.com/assets/colab-badge.svg\" alt=\"Open In Colab\"/></a>"
      ]
    },
    {
      "cell_type": "markdown",
      "metadata": {
        "id": "PHPmr1FTDRzy"
      },
      "source": [
        "### **Naive bayes Algorithm**"
      ]
    },
    {
      "cell_type": "markdown",
      "metadata": {
        "id": "_Bx7ENurDZyp"
      },
      "source": [
        "Importing libraries"
      ]
    },
    {
      "cell_type": "code",
      "metadata": {
        "id": "qPwkQjJCB38C"
      },
      "source": [
        "import pandas as pd  \n",
        "import numpy as np  \n",
        "import matplotlib.pyplot as plt \n",
        "import seaborn as sns\n",
        "%matplotlib inline"
      ],
      "execution_count": null,
      "outputs": []
    },
    {
      "cell_type": "markdown",
      "metadata": {
        "id": "3yaKDI-gDfb5"
      },
      "source": [
        "Reading csv file"
      ]
    },
    {
      "cell_type": "code",
      "metadata": {
        "id": "qWv06-7JB9Fm"
      },
      "source": [
        "data = pd.read_csv(\"diabetes.csv\")"
      ],
      "execution_count": null,
      "outputs": []
    },
    {
      "cell_type": "code",
      "metadata": {
        "colab": {
          "base_uri": "https://localhost:8080/"
        },
        "id": "Dl6TxSv0B9NV",
        "outputId": "78a334f1-1c7f-4d67-feae-6a151bec3cce"
      },
      "source": [
        "data.info()"
      ],
      "execution_count": null,
      "outputs": [
        {
          "output_type": "stream",
          "name": "stdout",
          "text": [
            "<class 'pandas.core.frame.DataFrame'>\n",
            "RangeIndex: 768 entries, 0 to 767\n",
            "Data columns (total 9 columns):\n",
            " #   Column                    Non-Null Count  Dtype  \n",
            "---  ------                    --------------  -----  \n",
            " 0   Pregnancies               768 non-null    int64  \n",
            " 1   Glucose                   768 non-null    int64  \n",
            " 2   BloodPressure             768 non-null    int64  \n",
            " 3   SkinThickness             768 non-null    int64  \n",
            " 4   Insulin                   768 non-null    int64  \n",
            " 5   BMI                       768 non-null    float64\n",
            " 6   DiabetesPedigreeFunction  768 non-null    float64\n",
            " 7   Age                       768 non-null    int64  \n",
            " 8   Outcome                   768 non-null    int64  \n",
            "dtypes: float64(2), int64(7)\n",
            "memory usage: 54.1 KB\n"
          ]
        }
      ]
    },
    {
      "cell_type": "code",
      "metadata": {
        "colab": {
          "base_uri": "https://localhost:8080/"
        },
        "id": "sNmVpZz4CAFZ",
        "outputId": "4897f88f-6f4a-40c3-f110-7838f64ec104"
      },
      "source": [
        "data['Outcome'].value_counts()"
      ],
      "execution_count": null,
      "outputs": [
        {
          "output_type": "execute_result",
          "data": {
            "text/plain": [
              "0    500\n",
              "1    268\n",
              "Name: Outcome, dtype: int64"
            ]
          },
          "metadata": {},
          "execution_count": 4
        }
      ]
    },
    {
      "cell_type": "code",
      "metadata": {
        "id": "7Cm09nGrCAMK"
      },
      "source": [
        "X = data.drop('Outcome', axis=1)  \n",
        "y = data['Outcome']"
      ],
      "execution_count": null,
      "outputs": []
    },
    {
      "cell_type": "markdown",
      "metadata": {
        "id": "Udfu4RkdDjrx"
      },
      "source": [
        "Splitting the training and testing data"
      ]
    },
    {
      "cell_type": "code",
      "metadata": {
        "id": "sGlzhIbLCATU"
      },
      "source": [
        "from sklearn.model_selection import train_test_split  \n",
        "X_train, X_test, y_train, y_test = train_test_split(X, y, test_size = 0.20)"
      ],
      "execution_count": null,
      "outputs": []
    },
    {
      "cell_type": "code",
      "metadata": {
        "colab": {
          "base_uri": "https://localhost:8080/"
        },
        "id": "7gTilUFFCAb8",
        "outputId": "16b726fa-df47-4266-fd22-2070ddbd957b"
      },
      "source": [
        "print(X_train)"
      ],
      "execution_count": null,
      "outputs": [
        {
          "output_type": "stream",
          "name": "stdout",
          "text": [
            "     Pregnancies  Glucose  BloodPressure  ...   BMI  DiabetesPedigreeFunction  Age\n",
            "271            2      108             62  ...  25.2                     0.128   21\n",
            "529            0      111             65  ...  24.6                     0.660   31\n",
            "653            2      120             54  ...  26.8                     0.455   27\n",
            "390            1      100             66  ...  32.0                     0.444   42\n",
            "492            4       99             68  ...  32.8                     0.145   33\n",
            "..           ...      ...            ...  ...   ...                       ...  ...\n",
            "112            1       89             76  ...  31.2                     0.192   23\n",
            "286            5      155             84  ...  38.7                     0.619   34\n",
            "592            3      132             80  ...  34.4                     0.402   44\n",
            "167            4      120             68  ...  29.6                     0.709   34\n",
            "252            2       90             80  ...  24.4                     0.249   24\n",
            "\n",
            "[614 rows x 8 columns]\n"
          ]
        }
      ]
    },
    {
      "cell_type": "code",
      "metadata": {
        "colab": {
          "base_uri": "https://localhost:8080/"
        },
        "id": "hbThWVyfCAi9",
        "outputId": "c07d674f-8ea9-4e08-ab2c-689030e52452"
      },
      "source": [
        "print(y_train)"
      ],
      "execution_count": null,
      "outputs": [
        {
          "output_type": "stream",
          "name": "stdout",
          "text": [
            "271    0\n",
            "529    0\n",
            "653    0\n",
            "390    0\n",
            "492    0\n",
            "      ..\n",
            "112    0\n",
            "286    0\n",
            "592    1\n",
            "167    0\n",
            "252    0\n",
            "Name: Outcome, Length: 614, dtype: int64\n"
          ]
        }
      ]
    },
    {
      "cell_type": "code",
      "metadata": {
        "colab": {
          "base_uri": "https://localhost:8080/"
        },
        "id": "yaydptMICApt",
        "outputId": "0540644c-91db-461d-92d3-4e0187774205"
      },
      "source": [
        "print(X_test)"
      ],
      "execution_count": null,
      "outputs": [
        {
          "output_type": "stream",
          "name": "stdout",
          "text": [
            "     Pregnancies  Glucose  BloodPressure  ...   BMI  DiabetesPedigreeFunction  Age\n",
            "310            6       80             66  ...  26.2                     0.313   41\n",
            "626            0      125             68  ...  24.7                     0.206   21\n",
            "534            1       77             56  ...  33.3                     1.251   24\n",
            "401            6      137             61  ...  24.2                     0.151   55\n",
            "251            2      129             84  ...  28.0                     0.284   27\n",
            "..           ...      ...            ...  ...   ...                       ...  ...\n",
            "64             7      114             66  ...  32.8                     0.258   42\n",
            "554            1       84             64  ...  36.9                     0.471   28\n",
            "712           10      129             62  ...  41.2                     0.441   38\n",
            "502            6        0             68  ...  39.0                     0.727   41\n",
            "8              2      197             70  ...  30.5                     0.158   53\n",
            "\n",
            "[154 rows x 8 columns]\n"
          ]
        }
      ]
    },
    {
      "cell_type": "code",
      "metadata": {
        "colab": {
          "base_uri": "https://localhost:8080/"
        },
        "id": "4WJT5-MJCAyq",
        "outputId": "bbef7fb8-949d-4209-89f3-36a739b93cc3"
      },
      "source": [
        "print(y_test)"
      ],
      "execution_count": null,
      "outputs": [
        {
          "output_type": "stream",
          "name": "stdout",
          "text": [
            "310    0\n",
            "626    0\n",
            "534    0\n",
            "401    0\n",
            "251    0\n",
            "      ..\n",
            "64     1\n",
            "554    0\n",
            "712    1\n",
            "502    1\n",
            "8      1\n",
            "Name: Outcome, Length: 154, dtype: int64\n"
          ]
        }
      ]
    },
    {
      "cell_type": "markdown",
      "metadata": {
        "id": "XkrEPX64DorB"
      },
      "source": [
        "Running naive bayes algorithm"
      ]
    },
    {
      "cell_type": "code",
      "metadata": {
        "colab": {
          "base_uri": "https://localhost:8080/"
        },
        "id": "CLoEz3-FCA5y",
        "outputId": "da820533-2b22-45c8-a0a3-38ed5b85dca9"
      },
      "source": [
        "from sklearn.naive_bayes import GaussianNB \n",
        "gnb = GaussianNB() \n",
        "gnb.fit(X, y) \n",
        "y_pred = gnb.predict(X)\n",
        "correct = (y_pred==y).sum()\n",
        "accuracy = correct/len(y)*100\n",
        "print(\"accuracy = \", accuracy, \"%\")"
      ],
      "execution_count": null,
      "outputs": [
        {
          "output_type": "stream",
          "name": "stdout",
          "text": [
            "accuracy =  76.30208333333334 %\n"
          ]
        }
      ]
    }
  ]
}