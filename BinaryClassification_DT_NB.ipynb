{
  "nbformat": 4,
  "nbformat_minor": 0,
  "metadata": {
    "colab": {
      "provenance": [],
      "collapsed_sections": [],
      "authorship_tag": "ABX9TyPsDh9a1IXXE7KZCxuBY5xJ",
      "include_colab_link": true
    },
    "kernelspec": {
      "name": "python3",
      "display_name": "Python 3"
    },
    "language_info": {
      "name": "python"
    }
  },
  "cells": [
    {
      "cell_type": "markdown",
      "metadata": {
        "id": "view-in-github",
        "colab_type": "text"
      },
      "source": [
        "<a href=\"https://colab.research.google.com/github/TejaswiReddySandi/ml-academic-assignments/blob/main/BinaryClassification_DT_NB.ipynb\" target=\"_parent\"><img src=\"https://colab.research.google.com/assets/colab-badge.svg\" alt=\"Open In Colab\"/></a>"
      ]
    },
    {
      "cell_type": "markdown",
      "metadata": {
        "id": "lAego4uySqWg"
      },
      "source": [
        "# **Importing libraries**"
      ]
    },
    {
      "cell_type": "code",
      "metadata": {
        "colab": {
          "base_uri": "https://localhost:8080/"
        },
        "id": "VagoTJyv-oO3",
        "outputId": "39c96600-f024-47d7-e6cc-09cbca322dd0"
      },
      "source": [
        "#importing libraries\n",
        "import numpy as np # linear algebra\n",
        "import pandas as pd # data processing, \n",
        "\n",
        "# Libraries for data visualization\n",
        "import matplotlib.pyplot as pplt  \n",
        "import seaborn as sns \n",
        "from pandas.plotting import scatter_matrix\n",
        "\n",
        "# Import scikit_learn module for the algorithm/model: Linear Regression\n",
        "from sklearn.linear_model import LogisticRegression\n",
        "# Import scikit_learn module to split the dataset into train.test sub-datasets\n",
        "from sklearn.model_selection import train_test_split \n",
        "# Import scikit_learn module for k-fold cross validation\n",
        "from sklearn.model_selection import KFold\n",
        "from sklearn.model_selection import cross_val_score\n",
        "# import the metrics class\n",
        "from sklearn import metrics\n",
        "# import stats for accuracy \n",
        "import statsmodels.api as sm"
      ],
      "execution_count": null,
      "outputs": [
        {
          "output_type": "stream",
          "name": "stderr",
          "text": [
            "/usr/local/lib/python3.7/dist-packages/statsmodels/tools/_testing.py:19: FutureWarning: pandas.util.testing is deprecated. Use the functions in the public API at pandas.testing instead.\n",
            "  import pandas.util.testing as tm\n"
          ]
        }
      ]
    },
    {
      "cell_type": "markdown",
      "metadata": {
        "id": "oB8e_1JBSwKo"
      },
      "source": [
        "**Loading dataset**"
      ]
    },
    {
      "cell_type": "code",
      "metadata": {
        "id": "rBhXiL-_-uIf"
      },
      "source": [
        "#loading the dataset\n",
        "df = pd.read_csv('adult.csv')"
      ],
      "execution_count": null,
      "outputs": []
    },
    {
      "cell_type": "code",
      "metadata": {
        "colab": {
          "base_uri": "https://localhost:8080/"
        },
        "id": "vqaGN5k-AgOH",
        "outputId": "4d60b82f-51e8-4ad0-acc3-c9b2ea8ac6bc"
      },
      "source": [
        "# salary dataset info to find columns and count of the data \n",
        "df.info()"
      ],
      "execution_count": null,
      "outputs": [
        {
          "output_type": "stream",
          "name": "stdout",
          "text": [
            "<class 'pandas.core.frame.DataFrame'>\n",
            "RangeIndex: 48842 entries, 0 to 48841\n",
            "Data columns (total 15 columns):\n",
            " #   Column           Non-Null Count  Dtype \n",
            "---  ------           --------------  ----- \n",
            " 0   age              48842 non-null  int64 \n",
            " 1   workclass        48842 non-null  object\n",
            " 2   fnlwgt           48842 non-null  int64 \n",
            " 3   education        48842 non-null  object\n",
            " 4   educational-num  48842 non-null  int64 \n",
            " 5   marital-status   48842 non-null  object\n",
            " 6   occupation       48842 non-null  object\n",
            " 7   relationship     48842 non-null  object\n",
            " 8   race             48842 non-null  object\n",
            " 9   gender           48842 non-null  object\n",
            " 10  capital-gain     48842 non-null  int64 \n",
            " 11  capital-loss     48842 non-null  int64 \n",
            " 12  hours-per-week   48842 non-null  int64 \n",
            " 13  native-country   48842 non-null  object\n",
            " 14  income           48842 non-null  object\n",
            "dtypes: int64(6), object(9)\n",
            "memory usage: 5.6+ MB\n"
          ]
        }
      ]
    },
    {
      "cell_type": "code",
      "metadata": {
        "colab": {
          "base_uri": "https://localhost:8080/"
        },
        "id": "jSZdR778AmPv",
        "outputId": "88c90e74-411c-477d-a834-55071c9a0cb1"
      },
      "source": [
        "#replacing some special character columns names with proper names \n",
        "df.rename(columns={'capital-gain': 'capital gain', 'capital-loss': 'capital loss', 'native-country': 'country','hours-per-week': 'hours per week','marital-status': 'marital'}, inplace=True)\n",
        "df.columns"
      ],
      "execution_count": null,
      "outputs": [
        {
          "output_type": "execute_result",
          "data": {
            "text/plain": [
              "Index(['age', 'workclass', 'fnlwgt', 'education', 'educational-num', 'marital',\n",
              "       'occupation', 'relationship', 'race', 'gender', 'capital gain',\n",
              "       'capital loss', 'hours per week', 'country', 'income'],\n",
              "      dtype='object')"
            ]
          },
          "metadata": {},
          "execution_count": 5
        }
      ]
    },
    {
      "cell_type": "markdown",
      "metadata": {
        "id": "j5Ct9cB99d1o"
      },
      "source": [
        "# **Data Analysis**"
      ]
    },
    {
      "cell_type": "code",
      "metadata": {
        "colab": {
          "base_uri": "https://localhost:8080/"
        },
        "id": "pFx2maTX9J3G",
        "outputId": "997d8cb6-62b5-436e-c2df-91fed21da3c9"
      },
      "source": [
        "#Data cleaning\n",
        "#Finding the special characters in the data frame \n",
        "df.isin(['?']).sum(axis=0)"
      ],
      "execution_count": null,
      "outputs": [
        {
          "output_type": "execute_result",
          "data": {
            "text/plain": [
              "age                   0\n",
              "workclass          2799\n",
              "fnlwgt                0\n",
              "education             0\n",
              "educational-num       0\n",
              "marital               0\n",
              "occupation         2809\n",
              "relationship          0\n",
              "race                  0\n",
              "gender                0\n",
              "capital gain          0\n",
              "capital loss          0\n",
              "hours per week        0\n",
              "country             857\n",
              "income                0\n",
              "dtype: int64"
            ]
          },
          "metadata": {},
          "execution_count": 6
        }
      ]
    },
    {
      "cell_type": "code",
      "metadata": {
        "id": "-Jh7coIWBPWV"
      },
      "source": [
        "# code will replace the special character to nan and then drop the columns \n",
        "df['country'] = df['country'].replace('?',np.nan)\n",
        "df['workclass'] = df['workclass'].replace('?',np.nan)\n",
        "df['occupation'] = df['occupation'].replace('?',np.nan)\n",
        "#dropping the NaN rows now \n",
        "df.dropna(how='any',inplace=True)"
      ],
      "execution_count": null,
      "outputs": []
    },
    {
      "cell_type": "code",
      "metadata": {
        "colab": {
          "base_uri": "https://localhost:8080/"
        },
        "id": "OqFGE4nRBTpe",
        "outputId": "5110782b-5ed7-4301-810e-ddebc5e365c9"
      },
      "source": [
        "#feature engineering\n",
        "#running a loop of value_counts of each column to find out unique values. \n",
        "for c in df.columns:\n",
        "    print (\"---- %s ---\" % c)\n",
        "    print (df[c].value_counts())"
      ],
      "execution_count": null,
      "outputs": [
        {
          "output_type": "stream",
          "name": "stdout",
          "text": [
            "---- age ---\n",
            "36    1283\n",
            "33    1279\n",
            "31    1274\n",
            "35    1272\n",
            "23    1241\n",
            "      ... \n",
            "85       5\n",
            "88       5\n",
            "86       1\n",
            "87       1\n",
            "89       1\n",
            "Name: age, Length: 74, dtype: int64\n",
            "---- workclass ---\n",
            "Private             33307\n",
            "Self-emp-not-inc     3796\n",
            "Local-gov            3100\n",
            "State-gov            1946\n",
            "Self-emp-inc         1646\n",
            "Federal-gov          1406\n",
            "Without-pay            21\n",
            "Name: workclass, dtype: int64\n",
            "---- fnlwgt ---\n",
            "203488    21\n",
            "125892    18\n",
            "120277    18\n",
            "113364    17\n",
            "126569    17\n",
            "          ..\n",
            "88440      1\n",
            "176517     1\n",
            "194956     1\n",
            "201105     1\n",
            "208174     1\n",
            "Name: fnlwgt, Length: 26741, dtype: int64\n",
            "---- education ---\n",
            "HS-grad         14783\n",
            "Some-college     9899\n",
            "Bachelors        7570\n",
            "Masters          2514\n",
            "Assoc-voc        1959\n",
            "11th             1619\n",
            "Assoc-acdm       1507\n",
            "10th             1223\n",
            "7th-8th           823\n",
            "Prof-school       785\n",
            "9th               676\n",
            "12th              577\n",
            "Doctorate         544\n",
            "5th-6th           449\n",
            "1st-4th           222\n",
            "Preschool          72\n",
            "Name: education, dtype: int64\n",
            "---- educational-num ---\n",
            "9     14783\n",
            "10     9899\n",
            "13     7570\n",
            "14     2514\n",
            "11     1959\n",
            "7      1619\n",
            "12     1507\n",
            "6      1223\n",
            "4       823\n",
            "15      785\n",
            "5       676\n",
            "8       577\n",
            "16      544\n",
            "3       449\n",
            "2       222\n",
            "1        72\n",
            "Name: educational-num, dtype: int64\n",
            "---- marital ---\n",
            "Married-civ-spouse       21055\n",
            "Never-married            14598\n",
            "Divorced                  6297\n",
            "Separated                 1411\n",
            "Widowed                   1277\n",
            "Married-spouse-absent      552\n",
            "Married-AF-spouse           32\n",
            "Name: marital, dtype: int64\n",
            "---- occupation ---\n",
            "Craft-repair         6020\n",
            "Prof-specialty       6008\n",
            "Exec-managerial      5984\n",
            "Adm-clerical         5540\n",
            "Sales                5408\n",
            "Other-service        4808\n",
            "Machine-op-inspct    2970\n",
            "Transport-moving     2316\n",
            "Handlers-cleaners    2046\n",
            "Farming-fishing      1480\n",
            "Tech-support         1420\n",
            "Protective-serv       976\n",
            "Priv-house-serv       232\n",
            "Armed-Forces           14\n",
            "Name: occupation, dtype: int64\n",
            "---- relationship ---\n",
            "Husband           18666\n",
            "Not-in-family     11702\n",
            "Own-child          6626\n",
            "Unmarried          4788\n",
            "Wife               2091\n",
            "Other-relative     1349\n",
            "Name: relationship, dtype: int64\n",
            "---- race ---\n",
            "White                 38903\n",
            "Black                  4228\n",
            "Asian-Pac-Islander     1303\n",
            "Amer-Indian-Eskimo      435\n",
            "Other                   353\n",
            "Name: race, dtype: int64\n",
            "---- gender ---\n",
            "Male      30527\n",
            "Female    14695\n",
            "Name: gender, dtype: int64\n",
            "---- capital gain ---\n",
            "0        41432\n",
            "15024      498\n",
            "7688       391\n",
            "7298       351\n",
            "99999      229\n",
            "         ...  \n",
            "1731         1\n",
            "22040        1\n",
            "7262         1\n",
            "1639         1\n",
            "2387         1\n",
            "Name: capital gain, Length: 121, dtype: int64\n",
            "---- capital loss ---\n",
            "0       43082\n",
            "1902      294\n",
            "1977      246\n",
            "1887      228\n",
            "2415       68\n",
            "        ...  \n",
            "2201        1\n",
            "1421        1\n",
            "4356        1\n",
            "2163        1\n",
            "1870        1\n",
            "Name: capital loss, Length: 97, dtype: int64\n",
            "---- hours per week ---\n",
            "40    21358\n",
            "50     4094\n",
            "45     2602\n",
            "60     2085\n",
            "35     1776\n",
            "      ...  \n",
            "69        1\n",
            "94        1\n",
            "79        1\n",
            "82        1\n",
            "87        1\n",
            "Name: hours per week, Length: 96, dtype: int64\n",
            "---- country ---\n",
            "United-States                 41292\n",
            "Mexico                          903\n",
            "Philippines                     283\n",
            "Germany                         193\n",
            "Puerto-Rico                     175\n",
            "Canada                          163\n",
            "India                           147\n",
            "El-Salvador                     147\n",
            "Cuba                            133\n",
            "England                         119\n",
            "China                           113\n",
            "Jamaica                         103\n",
            "South                           101\n",
            "Italy                           100\n",
            "Dominican-Republic               97\n",
            "Japan                            89\n",
            "Guatemala                        86\n",
            "Vietnam                          83\n",
            "Columbia                         82\n",
            "Poland                           81\n",
            "Haiti                            69\n",
            "Portugal                         62\n",
            "Iran                             56\n",
            "Taiwan                           55\n",
            "Greece                           49\n",
            "Nicaragua                        48\n",
            "Peru                             45\n",
            "Ecuador                          43\n",
            "France                           36\n",
            "Ireland                          36\n",
            "Thailand                         29\n",
            "Hong                             28\n",
            "Cambodia                         26\n",
            "Trinadad&Tobago                  26\n",
            "Yugoslavia                       23\n",
            "Outlying-US(Guam-USVI-etc)       22\n",
            "Laos                             21\n",
            "Scotland                         20\n",
            "Honduras                         19\n",
            "Hungary                          18\n",
            "Holand-Netherlands                1\n",
            "Name: country, dtype: int64\n",
            "---- income ---\n",
            "<=50K    34014\n",
            ">50K     11208\n",
            "Name: income, dtype: int64\n"
          ]
        }
      ]
    },
    {
      "cell_type": "code",
      "metadata": {
        "id": "yIk9-6z8Baj2"
      },
      "source": [
        "#dropping based on uniquness of data from the dataset \n",
        "df.drop(['educational-num','age', 'hours per week', 'fnlwgt', 'capital gain','capital loss', 'country'], axis=1, inplace=True)"
      ],
      "execution_count": null,
      "outputs": []
    },
    {
      "cell_type": "code",
      "metadata": {
        "id": "2R3zrVGqBet3"
      },
      "source": [
        "#mapping the data into numerical data using map function\n",
        "df['income'] = df['income'].map({'<=50K': 0, '>50K': 1}).astype(int)"
      ],
      "execution_count": null,
      "outputs": []
    },
    {
      "cell_type": "code",
      "metadata": {
        "id": "AKjUM546BqGN"
      },
      "source": [
        "#gender\n",
        "df['gender'] = df['gender'].map({'Male': 0, 'Female': 1}).astype(int)\n",
        "#race\n",
        "df['race'] = df['race'].map({'Black': 0, 'Asian-Pac-Islander': 1,'Other': 2, 'White': 3, 'Amer-Indian-Eskimo': 4}).astype(int)\n",
        "#marital\n",
        "df['marital'] = df['marital'].map({'Married-spouse-absent': 0, 'Widowed': 1, 'Married-civ-spouse': 2, 'Separated': 3, 'Divorced': 4,'Never-married': 5, 'Married-AF-spouse': 6}).astype(int)\n",
        "#workclass\n",
        "df['workclass'] = df['workclass'].map({'Self-emp-inc': 0, 'State-gov': 1,'Federal-gov': 2, 'Without-pay': 3, 'Local-gov': 4,'Private': 5, 'Self-emp-not-inc': 6}).astype(int)\n",
        "#education\n",
        "df['education'] = df['education'].map({'Some-college': 0, 'Preschool': 1, '5th-6th': 2, 'HS-grad': 3, 'Masters': 4, '12th': 5, '7th-8th': 6, 'Prof-school': 7,'1st-4th': 8, 'Assoc-acdm': 9, 'Doctorate': 10, '11th': 11,'Bachelors': 12, '10th': 13,'Assoc-voc': 14,'9th': 15}).astype(int)\n",
        "#occupation\n",
        "df['occupation'] = df['occupation'].map({ 'Farming-fishing': 1, 'Tech-support': 2, 'Adm-clerical': 3, 'Handlers-cleaners': 4, 'Prof-specialty': 5,'Machine-op-inspct': 6, 'Exec-managerial': 7,'Priv-house-serv': 8,'Craft-repair': 9,'Sales': 10, 'Transport-moving': 11, 'Armed-Forces': 12, 'Other-service': 13,'Protective-serv':14}).astype(int)\n",
        "#relationship\n",
        "df['relationship'] = df['relationship'].map({'Not-in-family': 0, 'Wife': 1, 'Other-relative': 2, 'Unmarried': 3,'Husband': 4,'Own-child': 5}).astype(int)"
      ],
      "execution_count": null,
      "outputs": []
    },
    {
      "cell_type": "markdown",
      "metadata": {
        "id": "8mLNnA1nRmqf"
      },
      "source": [
        "**Data Visualisation**"
      ]
    },
    {
      "cell_type": "code",
      "metadata": {
        "colab": {
          "base_uri": "https://localhost:8080/",
          "height": 299
        },
        "id": "7rRiyyjYRmY5",
        "outputId": "9b62410e-636b-49ab-8c59-d915652848b4"
      },
      "source": [
        "#plotting a bar graph for Education against Income to see the co-relation between these columns \n",
        "df.groupby('education').income.mean().plot(kind='bar')"
      ],
      "execution_count": null,
      "outputs": [
        {
          "output_type": "execute_result",
          "data": {
            "text/plain": [
              "<matplotlib.axes._subplots.AxesSubplot at 0x7f4e69e400d0>"
            ]
          },
          "metadata": {},
          "execution_count": 12
        },
        {
          "output_type": "display_data",
          "data": {
            "image/png": "[encoded data removed]",
            "text/plain": [
              "<Figure size 432x288 with 1 Axes>"
            ]
          },
          "metadata": {
            "needs_background": "light"
          }
        }
      ]
    },
    {
      "cell_type": "markdown",
      "metadata": {
        "id": "hWOBYQjsRvE5"
      },
      "source": [
        "**Identifying features**"
      ]
    },
    {
      "cell_type": "code",
      "metadata": {
        "id": "OD-qTcxxRzO4"
      },
      "source": [
        "#Transform the data set into a data frame\n",
        "#X axis = We concatenate the Relationship, Education,Race,Occupation columns concate using np.c_ provided by the numpy library\n",
        "df_x = pd.DataFrame(np.c_[df['relationship'], df['education'], df['race'],df['occupation'],df['gender'],df['marital'],df['workclass']], columns = ['relationship','education','race','occupation','gender','marital','workclass'])\n",
        "#Y axis = Our dependent variable or the income of adult i.e Income\n",
        "df_y = pd.DataFrame(df.income)"
      ],
      "execution_count": null,
      "outputs": []
    },
    {
      "cell_type": "markdown",
      "metadata": {
        "id": "iwdmenzER2gn"
      },
      "source": [
        "**Splitting data**"
      ]
    },
    {
      "cell_type": "code",
      "metadata": {
        "id": "rPU4ZuobR6mJ"
      },
      "source": [
        "#Initialize the linear regression model\n",
        "reg = LogisticRegression()\n",
        "#Split the data into 77% training and 33% testing data\n",
        "#NOTE: We have to split the dependent variables (x) and the target or independent variable (y)\n",
        "x_train, x_test, y_train, y_test = train_test_split(df_x, df_y, test_size=0.33, random_state=42)"
      ],
      "execution_count": null,
      "outputs": []
    },
    {
      "cell_type": "code",
      "metadata": {
        "colab": {
          "base_uri": "https://localhost:8080/"
        },
        "id": "Z08N7XZUR-0A",
        "outputId": "1a794969-1ad2-4f49-e955-c32f0487634c"
      },
      "source": [
        "#Train our model with the training data\n",
        "reg.fit(x_train, y_train)\n",
        "#print our price predictions on our test data\n",
        "y_pred = reg.predict(x_test)"
      ],
      "execution_count": null,
      "outputs": [
        {
          "output_type": "stream",
          "name": "stderr",
          "text": [
            "/usr/local/lib/python3.7/dist-packages/sklearn/utils/validation.py:985: DataConversionWarning: A column-vector y was passed when a 1d array was expected. Please change the shape of y to (n_samples, ), for example using ravel().\n",
            "  y = column_or_1d(y, warn=True)\n"
          ]
        }
      ]
    },
    {
      "cell_type": "markdown",
      "metadata": {
        "id": "nNcEhck6SDfv"
      },
      "source": [
        "# **Prediction and evaluation**"
      ]
    },
    {
      "cell_type": "code",
      "metadata": {
        "colab": {
          "base_uri": "https://localhost:8080/"
        },
        "id": "mtKjUvs2SG6C",
        "outputId": "6f2e818a-f2cb-48c4-a16e-a7f38b869ca2"
      },
      "source": [
        "#feeding the predict function with our test values in the format [['relationship','education','race','occupation','gender','marital','workclass']]\n",
        "reg.predict([[1,7,3,7,0,2,0]])"
      ],
      "execution_count": null,
      "outputs": [
        {
          "output_type": "stream",
          "name": "stderr",
          "text": [
            "/usr/local/lib/python3.7/dist-packages/sklearn/base.py:446: UserWarning: X does not have valid feature names, but LogisticRegression was fitted with feature names\n",
            "  \"X does not have valid feature names, but\"\n"
          ]
        },
        {
          "output_type": "execute_result",
          "data": {
            "text/plain": [
              "array([1])"
            ]
          },
          "metadata": {},
          "execution_count": 16
        }
      ]
    },
    {
      "cell_type": "code",
      "metadata": {
        "colab": {
          "base_uri": "https://localhost:8080/"
        },
        "id": "WocRzdixSKgG",
        "outputId": "eec4d7b0-7e7f-470f-c39c-a6e849e6248c"
      },
      "source": [
        "#printing the accuracy values \n",
        "print(\"Accuracy:\",metrics.accuracy_score(y_test, y_pred))"
      ],
      "execution_count": null,
      "outputs": [
        {
          "output_type": "stream",
          "name": "stdout",
          "text": [
            "Accuracy: 0.7603189493433395\n"
          ]
        }
      ]
    }
  ]
}